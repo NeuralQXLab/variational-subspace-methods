{
 "cells": [
  {
   "cell_type": "markdown",
   "id": "4090f0f1-8245-4137-8c53-aef582f4ffc2",
   "metadata": {},
   "source": [
    "# Bridge tutorial\n",
    "\n",
    "This tutorial demonstrates the use of bridge on a small example, using first order discretized dynamics states as a basis to make the presentation simpler. The only source of error in the basis states is therefore *discretization error*, such that we expect bridge to improve a lot. In order to simulate *optimization error*, we can add noise to the basis states, and see that as we increase this noise, the performance of bridge relative to the basis states decreases.\n",
    "\n",
    "We note two details:\n",
    "- On a small example, we must be careful to not place ourselves in a trivial case. If we have a lot of symmetries, the dimension of the effective subspace of the dynamics can become smaller than the number of basis states, in which case bridge becomes close to exact. In order to not be in this uninteresting case, we open the boundary conditions of the Ising model to decrease the number of symmetries.\n",
    "- It might happen that the reported optimal infidelity within the subspace is larger than the actual performance of bridge. This is due to numerical instability in the exact calculation of the optimal infidelity within the subspace, which involves the potentially ill-conditioned inversion of the Gram matrix of the family of basis states."
   ]
  },
  {
   "cell_type": "code",
   "execution_count": null,
   "id": "693556da-06a9-4a85-8ee6-4a90899320b7",
   "metadata": {},
   "outputs": [],
   "source": [
    "import numpy as np\n",
    "import matplotlib.pyplot as plt\n",
    "import jax\n",
    "import jax.numpy as jnp\n",
    "import qutip as qt\n",
    "\n",
    "from tqdm.auto import tqdm\n",
    "\n",
    "import netket as nk\n",
    "import netket_pro as nkp\n",
    "\n",
    "import bridge"
   ]
  },
  {
   "cell_type": "code",
   "execution_count": null,
   "id": "edc11b2f-f16f-40d2-bfc2-27b09c62ecc7",
   "metadata": {},
   "outputs": [],
   "source": [
    "# Parameters for sampling the Rayleigh matrix\n",
    "n_samples = 3000\n",
    "sweep_size = 40\n",
    "n_chains = 20\n",
    "n_discard_per_chain = 200\n",
    "\n",
    "# Noise for the basis states\n",
    "base_states_noise = 1e-5\n",
    "\n",
    "# Times\n",
    "base_times = np.linspace(0, 2, 20)\n",
    "bridge_times = np.linspace(0, 2, 50)\n",
    "exact_times = np.sort(np.unique(np.concat((base_times, bridge_times))))\n",
    "\n",
    "# Hamiltonian parameters\n",
    "J = 0.2\n",
    "h = 1.\n",
    "\n",
    "# Graph parameters\n",
    "grid_width = 3\n",
    "grid_height = 3\n",
    "n_qubits = grid_width * grid_height\n",
    "dims_vec = [n_qubits*[2], n_qubits*[1]]\n",
    "\n",
    "# Random seed\n",
    "rng_jax = jax.random.PRNGKey(0)\n",
    "\n",
    "# Hilbert space\n",
    "graph = nk.graph.Grid([grid_width, grid_height], pbc=False)\n",
    "hilbert_space = nk.hilbert.Spin(0.5, n_qubits, inverted_ordering=True)\n",
    "\n",
    "# Operators\n",
    "hamiltonian = sum([-J * nk.operator.spin.sigmaz(hilbert_space, i) * nk.operator.spin.sigmaz(hilbert_space, j) for i,j in graph.edges()])\n",
    "hamiltonian += sum([-h * nk.operator.spin.sigmax(hilbert_space, i) for i in graph.nodes()])\n",
    "hamiltonian = hamiltonian.to_jax_operator()\n",
    "total_x = sum([nk.operator.spin.sigmax(hilbert_space, k, dtype=complex).to_pauli_strings().to_jax_operator() for k in range(n_qubits)]) * (1 / n_qubits)\n",
    "\n",
    "hamiltonian_qt = hamiltonian.to_qobj()\n",
    "total_x_qt = total_x.to_qobj()"
   ]
  },
  {
   "cell_type": "markdown",
   "id": "075bc261-0c15-4efe-a691-87a7644f67be",
   "metadata": {},
   "source": [
    "### Exact dynamics"
   ]
  },
  {
   "cell_type": "code",
   "execution_count": null,
   "id": "2eccca4f-c613-47d9-954d-d156965d397c",
   "metadata": {},
   "outputs": [],
   "source": [
    "psi_0 = qt.Qobj(np.ones(2**n_qubits), dims=dims_vec)\n",
    "psi_0 /= psi_0.norm()\n",
    "options = {'atol': 1e-8, 'rtol': 1e-8, 'store_states': True}\n",
    "\n",
    "exact_dynamics_res = qt.sesolve(hamiltonian_qt, psi_0, exact_times, e_ops=[total_x_qt], options=options)\n",
    "exact_dynamics_states = exact_dynamics_res.states\n",
    "exact_dynamics_observables = exact_dynamics_res.expect[0]\n",
    "\n",
    "exact_dynamics_states_np = np.array([state.full()[:,0] for state in exact_dynamics_states])"
   ]
  },
  {
   "cell_type": "markdown",
   "id": "e34f1163-3696-49fe-a356-2d7f222837ef",
   "metadata": {},
   "source": [
    "### Generation of the basis states.\n",
    "\n",
    "The basis states are constructed with $ | \\psi_{k+1} \\rangle = (1 - i H \\delta) | \\psi_k \\rangle $. We then potentially add noise on these states."
   ]
  },
  {
   "cell_type": "code",
   "execution_count": null,
   "id": "b02d5521-43ed-4415-8fef-8814013654d4",
   "metadata": {},
   "outputs": [],
   "source": [
    "# Generate basis states\n",
    "delta = base_times[1]\n",
    "m_states = len(base_times)\n",
    "\n",
    "psi = psi_0\n",
    "base_states = [psi_0]\n",
    "for _ in range(m_states-1):\n",
    "    psi += -1.j * delta * hamiltonian_qt * psi\n",
    "    base_states.append(psi)\n",
    "base_states_np = np.array([state.full()[:, 0] for state in base_states])\n",
    "base_states_np += base_states_noise * np.random.random(base_states_np.shape)\n",
    "\n",
    "sampler = nk.sampler.MetropolisLocal(hilbert_space)\n",
    "model = nk.models.LogStateVector(hilbert_space)\n",
    "base_states = [nk.vqs.MCState(sampler, model) for _ in range(m_states)]\n",
    "for k, state in enumerate(base_states):\n",
    "    state.variables = {\"params\": {\"logstate\": jnp.array(jnp.log(base_states_np[k]))}}"
   ]
  },
  {
   "cell_type": "markdown",
   "id": "ca29dc29-f79b-4a56-8939-6b0c04974df0",
   "metadata": {},
   "source": [
    "### Bridge"
   ]
  },
  {
   "cell_type": "code",
   "execution_count": null,
   "id": "8c7e0623-6b30-49cd-bda5-a8bb01356d60",
   "metadata": {},
   "outputs": [],
   "source": [
    "# Bridge\n",
    "sampling_rule = nk.sampler.rules.LocalRule()\n",
    "with nk.utils.timing.timed_scope(force=True) as timer:\n",
    "    bridge_coefficients, rayleigh_matrix_estimate, info_dict = bridge.bridge(base_states, hamiltonian, bridge_times, n_samples, sweep_size, n_chains, n_discard_per_chain, sampling_rule=sampling_rule, chunk_size=1, decimal_precision_solver=None)\n",
    "\n",
    "# Construct the linear combination states\n",
    "bridge_vstates = [bridge.construct_linear_state(base_states, coefficient, cls=nk.vqs.MCState, n_samples=2**15) for coefficient in bridge_coefficients]"
   ]
  },
  {
   "cell_type": "markdown",
   "id": "a060e8a4-521c-4fcc-a348-212734ad71fa",
   "metadata": {},
   "source": [
    "### Computing the infidelity errors"
   ]
  },
  {
   "cell_type": "code",
   "execution_count": null,
   "id": "1a6acea3-a9fb-445b-82a3-fe6b8d3cc1d5",
   "metadata": {},
   "outputs": [],
   "source": [
    "# Matching the times\n",
    "_, base_indices = np.nonzero(np.abs(base_times[:, np.newaxis] - exact_times[np.newaxis, :]) < 1e-14)\n",
    "_, bridge_indices = np.nonzero(np.abs(bridge_times[:, np.newaxis] - exact_times[np.newaxis, :]) < 1e-14)\n",
    "\n",
    "# Infidelity of the basis states\n",
    "base_states_infidelities = np.real(1 - bridge.numpy_tools.fidelity(base_states_np, exact_dynamics_states_np[base_indices]))\n",
    "\n",
    "# Observable of the basis states\n",
    "base_states_observables_exact = np.real(np.einsum('kn,nk->k', base_states_np.conj(), (total_x.to_sparse() @ base_states_np.T)) / np.linalg.norm(base_states_np, axis=1)**2)\n",
    "\n",
    "# Infidelity of the bridge states\n",
    "bridge_states_full = np.inner(bridge_coefficients, base_states_np.T)\n",
    "bridge_states_infidelity = np.real(1 - bridge.numpy_tools.fidelity(bridge_states_full, exact_dynamics_states_np[bridge_indices]))\n",
    "\n",
    "# Observable of the bridge states\n",
    "bridge_states_observables_exact = np.real(np.einsum('kn,nk->k', bridge_states_full.conj(), (total_x.to_sparse() @ bridge_states_full.T)) / np.linalg.norm(bridge_states_full, axis=1)**2)\n",
    "\n",
    "# Optimal infidelity that can be obtained within the subspace spanned by the basis states\n",
    "optimal_infidelity = bridge.distance_to_subspace(exact_dynamics_states_np[bridge_indices], base_states_np, decimal_precision=100)"
   ]
  },
  {
   "cell_type": "markdown",
   "id": "322ef569-5d17-4860-8b25-933eef923905",
   "metadata": {},
   "source": [
    "### Computing observables of linear combination states\n",
    "\n",
    "There are two ways of estimating observables:\n",
    "\n",
    "- Either we construct the linear combination state $\\sum_k \\alpha_k | \\phi_k \\rangle$ using `bridge.construct_linear_state`. Then we only have to call the method `expect` as usual.\n",
    "- Or we can rely on the following formula for linear combination of states:\n",
    "$$ \\langle A \\rangle = \\frac{\\alpha^\\dagger G^{(A)} \\alpha}{\\alpha^\\dagger G \\alpha} $$\n",
    "and compute $G$ and $G^{(A)}$ using `bridge.estimate_projected_operators_sum_of_states`."
   ]
  },
  {
   "cell_type": "code",
   "execution_count": null,
   "id": "fa244db1-1437-443d-8c8f-254c6ddba976",
   "metadata": {},
   "outputs": [],
   "source": [
    "# First method\n",
    "bridge_observables_1 = []\n",
    "bridge_observables_1_eom = []\n",
    "\n",
    "for bridge_vstate in tqdm(bridge_vstates):\n",
    "    observable_stats = bridge_vstate.expect(total_x)\n",
    "    bridge_observables_1.append(np.real(observable_stats.mean.item()))\n",
    "    bridge_observables_1_eom.append(observable_stats.error_of_mean.item())"
   ]
  },
  {
   "cell_type": "code",
   "execution_count": null,
   "id": "19ffd64b-0a9e-4682-85e7-3079691341ed",
   "metadata": {},
   "outputs": [],
   "source": [
    "# Second method\n",
    "%time gram_matrix, projected_total_x = bridge.estimate_projected_operators_sum_of_states(base_states, [total_x], sampling_rule=sampler.rule, n_samples=2**17, n_discard_per_chain=5, chunk_size=1)\n",
    "\n",
    "numerator = np.einsum('ki,ij,kj->k', bridge_coefficients.conj(), projected_total_x, bridge_coefficients)\n",
    "denominator = np.einsum('ki,ij,kj->k', bridge_coefficients.conj(), gram_matrix, bridge_coefficients)\n",
    "bridge_observables_2 = np.real(numerator / denominator)"
   ]
  },
  {
   "cell_type": "markdown",
   "id": "c776d082-964c-45ea-b458-178136354f41",
   "metadata": {},
   "source": [
    "### Plot"
   ]
  },
  {
   "cell_type": "code",
   "execution_count": null,
   "id": "3af580a3-a3fa-44f2-afc6-866e61c9742c",
   "metadata": {},
   "outputs": [],
   "source": [
    "fig, ax = plt.subplots(2, 1, figsize=(16,16))\n",
    "\n",
    "ax[0].plot(base_times, base_states_infidelities, ls='--', marker='o', c='m', label='Basis states')\n",
    "ax[0].plot(bridge_times, bridge_states_infidelity, ls='-', marker='o', label='Bridge')\n",
    "ax[0].plot(bridge_times, optimal_infidelity, ls=':', marker='o', label='Optimal subspace states')\n",
    "\n",
    "ax[0].set_yscale('log')\n",
    "ax[0].set_xlabel('Time')\n",
    "ax[0].set_ylabel('Infidelity error')\n",
    "ax[0].grid()\n",
    "ax[0].legend()\n",
    "\n",
    "ax[1].plot(exact_times, exact_dynamics_observables, ls='-', c='k', label='Exact')\n",
    "ax[1].plot(base_times, base_states_observables_exact, ls='--', label='Basis states (without sampling)')\n",
    "ax[1].plot(bridge_times, bridge_states_observables_exact, ls='--', label='Bridge (without sampling)')\n",
    "ax[1].errorbar(bridge_times, np.real(bridge_observables_1), yerr=bridge_observables_1_eom, ls='--', marker='o', label='Bridge with method 1')\n",
    "ax[1].plot(bridge_times, bridge_observables_2, ls='--', label='Bridge with method 2')\n",
    "\n",
    "ax[1].set_xlabel('Time')\n",
    "ax[1].set_ylabel('Magnetization error')\n",
    "ax[1].grid()\n",
    "ax[1].legend()"
   ]
  }
 ],
 "metadata": {
  "kernelspec": {
   "display_name": "uvenv",
   "language": "python",
   "name": "uvenv"
  },
  "language_info": {
   "codemirror_mode": {
    "name": "ipython",
    "version": 3
   },
   "file_extension": ".py",
   "mimetype": "text/x-python",
   "name": "python",
   "nbconvert_exporter": "python",
   "pygments_lexer": "ipython3",
   "version": "3.12.9"
  }
 },
 "nbformat": 4,
 "nbformat_minor": 5
}
