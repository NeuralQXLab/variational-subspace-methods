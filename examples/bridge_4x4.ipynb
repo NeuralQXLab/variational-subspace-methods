{
 "cells": [
  {
   "cell_type": "markdown",
   "id": "ccafc476-ddf5-44a7-89b9-ea3f224a2826",
   "metadata": {},
   "source": [
    "## Bridge tutorial with real p-tVMC states\n",
    "\n",
    "We perform the dynamics of the Heisenberg Hamiltonian $(J, h) = (0.1, 1)$ on a $4 \\times 4$ lattice. The example states have been optimized with p-tVMC to approximate the dynamics of the state $| + \\ldots + \\rangle$ at discrete time step $\\delta=0.05$. We are now going to perform bridge on these states and see the improvement to the precision of the dynamics that it provides in less that five minutes."
   ]
  },
  {
   "cell_type": "code",
   "execution_count": null,
   "id": "136baed8-33e0-496e-8d9e-1733573f4352",
   "metadata": {},
   "outputs": [],
   "source": [
    "import glob\n",
    "\n",
    "import numpy as np\n",
    "import matplotlib.pyplot as plt\n",
    "import jax\n",
    "import qutip as qt\n",
    "\n",
    "from tqdm.auto import tqdm\n",
    "\n",
    "import netket as nk\n",
    "import nqxpack\n",
    "\n",
    "import bridge"
   ]
  },
  {
   "cell_type": "code",
   "execution_count": null,
   "id": "ee8019f9-ba0c-421e-87ec-cc16a4ed8e86",
   "metadata": {},
   "outputs": [],
   "source": [
    "# Sampling parameters\n",
    "n_samples = 3000\n",
    "sweep_size = 40\n",
    "n_chains = 20\n",
    "n_discard_per_chain = 200\n",
    "\n",
    "# Times\n",
    "times = np.linspace(0, 4.75, 96)\n",
    "\n",
    "# Hamiltonian parameters\n",
    "J = 0.1\n",
    "h = 1.\n",
    "\n",
    "# Graph parameters\n",
    "grid_width = 4\n",
    "grid_height = 4\n",
    "n_qubits = grid_width * grid_height\n",
    "dims_vec = [n_qubits*[2], n_qubits*[1]]\n",
    "\n",
    "# Random seed\n",
    "rng_jax = jax.random.PRNGKey(0)\n",
    "\n",
    "# Hilbert space\n",
    "graph = nk.graph.Grid([grid_width, grid_height], pbc=True)\n",
    "hilbert_space = nk.hilbert.Spin(0.5, n_qubits, inverted_ordering=True)\n",
    "\n",
    "# Operators\n",
    "hamiltonian = sum([-J * nk.operator.spin.sigmaz(hilbert_space, i) * nk.operator.spin.sigmaz(hilbert_space, j) for i,j in graph.edges()])\n",
    "hamiltonian += sum([-h * nk.operator.spin.sigmax(hilbert_space, i) for i in graph.nodes()])\n",
    "hamiltonian = hamiltonian.to_jax_operator()\n",
    "total_x = sum([nk.operator.spin.sigmax(hilbert_space, k, dtype=complex).to_pauli_strings().to_jax_operator() for k in range(n_qubits)]) * (1 / n_qubits)"
   ]
  },
  {
   "cell_type": "code",
   "execution_count": null,
   "id": "9dd99f0a-4cc9-4d41-95a4-a8c59a33c6ce",
   "metadata": {},
   "outputs": [],
   "source": [
    "# Load states\n",
    "state_list = []\n",
    "for file_name in sorted(glob.glob(\"example_states/state*\")):\n",
    "    state_list.append(nqxpack.load(file_name)['state'])\n",
    "\n",
    "m_states = len(state_list)\n",
    "\n",
    "if m_states == 0:\n",
    "    raise Exception(\"Failed to load any state\")\n",
    "print(f\"Loaded {m_states} states\")"
   ]
  },
  {
   "cell_type": "code",
   "execution_count": null,
   "id": "a26d0ec4-eb51-479d-b56f-94762eecd43a",
   "metadata": {},
   "outputs": [],
   "source": [
    "# Exact dynamics\n",
    "psi_0 = qt.Qobj(np.ones(2**n_qubits), dims=dims_vec)\n",
    "psi_0 /= psi_0.norm()\n",
    "hamiltonian_qt = hamiltonian.to_qobj()\n",
    "total_x_qt = total_x.to_qobj()\n",
    "options = {'atol': 1e-8, 'rtol': 1e-8, 'store_states': True, 'progress_bar': 'tqdm'}\n",
    "\n",
    "exact_dynamics_res = qt.sesolve(hamiltonian_qt, psi_0, times, e_ops=[total_x_qt], options=options)\n",
    "exact_dynamics_states = exact_dynamics_res.states\n",
    "exact_dynamics_states_np = np.array([state.full()[:,0] for state in exact_dynamics_states])\n",
    "exact_dynamics_observables = exact_dynamics_res.expect[0]"
   ]
  },
  {
   "cell_type": "code",
   "execution_count": null,
   "id": "6613257a-aa36-45c0-9aea-0798ec6b7df9",
   "metadata": {},
   "outputs": [],
   "source": [
    "# Bridge\n",
    "sampling_rule = nk.sampler.rules.LocalRule()\n",
    "with nk.utils.timing.timed_scope(force=True) as timer:\n",
    "    bridge_states, rayleigh_matrix_estimate, info_dict = bridge.bridge(state_list, hamiltonian, times, n_samples, sweep_size, n_chains, n_discard_per_chain, sampling_rule=sampling_rule, chunk_size=1, decimal_precision_solver=None)\n",
    "\n",
    "for key in info_dict:\n",
    "    print(key, info_dict[key])"
   ]
  },
  {
   "cell_type": "code",
   "execution_count": null,
   "id": "93e02aa4-784b-4c6b-84fb-31e7e3cf93c7",
   "metadata": {},
   "outputs": [],
   "source": [
    "# Infidelity of the basis states\n",
    "base_states_np = np.array([state.to_array(normalize=False) for state in state_list])\n",
    "base_states_infidelities = np.real(1 - bridge.numpy_tools.fidelity(base_states_np, exact_dynamics_states_np))\n",
    "\n",
    "# Observable of the basis states\n",
    "base_states_observables_exact = np.einsum('kn,nk->k', base_states_np.conj(), (total_x.to_sparse() @ base_states_np.T)) / np.linalg.norm(base_states_np, axis=1)**2\n",
    "\n",
    "# Infidelity of the bridge states\n",
    "bridge_states_full = np.inner(bridge_states, base_states_np.T)\n",
    "bridge_states_infidelity = np.real(1 - bridge.numpy_tools.fidelity(exact_dynamics_states_np, bridge_states_full))\n",
    "\n",
    "# Observable of the bridge states\n",
    "bridge_states_observables_exact = np.einsum('kn,nk->k', bridge_states_full.conj(), (total_x.to_sparse() @ bridge_states_full.T)) / np.linalg.norm(bridge_states_full, axis=1)**2\n",
    "\n",
    "# Optimal infidelity that can be obtained within the subspace spanned by the basis states\n",
    "optimal_infidelity = bridge.distance_to_subspace(exact_dynamics_states_np, base_states_np, decimal_precision=100)"
   ]
  },
  {
   "cell_type": "markdown",
   "id": "33370a78-f488-4071-9a89-63094f53cd79",
   "metadata": {},
   "source": [
    "There are two ways of estimating observables:\n",
    "\n",
    "- Either we construct the linear combination state $\\sum_k \\alpha_k | \\phi_k \\rangle$ using `bridge.construct_linear_state`. Then we only have to call the method `expect` as usual.\n",
    "- Or we can rely on the following formula for linear combination of states:\n",
    "$$ \\langle A \\rangle = \\frac{\\alpha^\\dagger G^{(A)} \\alpha}{\\alpha^\\dagger G \\alpha} $$\n",
    "and compute $G$ and $G^{(A)}$ using `bridge.estimate_projected_operators_sum_of_states`."
   ]
  },
  {
   "cell_type": "code",
   "execution_count": null,
   "id": "2bf52b01-0637-4f69-919a-bb84f491f083",
   "metadata": {},
   "outputs": [],
   "source": [
    "# First method\n",
    "bridge_observables_1 = []\n",
    "bridge_observables_1_eom = []\n",
    "\n",
    "sampler = nk.sampler.MetropolisLocal(hilbert_space)\n",
    "\n",
    "for coefficients in tqdm(bridge_states):\n",
    "    linear_combination_state = bridge.construct_linear_state(state_list, coefficients, cls=nk.vqs.MCState, sampler=sampler)\n",
    "    observable_stats = linear_combination_state.expect(total_x)\n",
    "    bridge_observables_1.append(observable_stats.mean.item())\n",
    "    bridge_observables_1_eom.append(observable_stats.error_of_mean.item())"
   ]
  },
  {
   "cell_type": "code",
   "execution_count": null,
   "id": "edd75053-7cb6-4a1b-bb24-ea0c041a8162",
   "metadata": {},
   "outputs": [],
   "source": [
    "# Second method\n",
    "%time gram_matrix, projected_total_x = bridge.estimate_projected_operators_sum_of_states(state_list, [total_x], sampling_rule=sampler.rule, n_samples=2**17, n_chains=2**13, n_discard_per_chain=5, chunk_size=1)\n",
    "\n",
    "numerator = np.einsum('ki,ij,kj->k', bridge_states.conj(), projected_total_x, bridge_states)\n",
    "denominator = np.einsum('ki,ij,kj->k', bridge_states.conj(), gram_matrix, bridge_states)\n",
    "bridge_observables_2 = numerator / denominator"
   ]
  },
  {
   "cell_type": "code",
   "execution_count": null,
   "id": "62bc62f9-cf34-4ae0-979a-d103150d272a",
   "metadata": {},
   "outputs": [],
   "source": [
    "# Plot\n",
    "fig, ax = plt.subplots(2, 1, figsize=(16,16))\n",
    "\n",
    "ax[0].plot(times, base_states_infidelities, ls='--', marker='o', c='m', label='Basis states')\n",
    "ax[0].plot(times, bridge_states_infidelity, ls='-', marker='o', label='Bridge')\n",
    "ax[0].plot(times, optimal_infidelity, ls=':', marker='o', label='Optimal subspace states')\n",
    "\n",
    "ax[0].set_yscale('log')\n",
    "ax[0].set_xlabel('Time')\n",
    "ax[0].set_ylabel('Infidelity error')\n",
    "ax[0].grid()\n",
    "ax[0].legend()\n",
    "\n",
    "\n",
    "ax[1].plot(times, exact_dynamics_observables, ls='-', c='k', label='Exact')\n",
    "ax[1].plot(times, base_states_observables_exact, ls='--', label='Basis states (without sampling)')\n",
    "ax[1].plot(times, bridge_states_observables_exact, ls='--', label='Bridge (without sampling)')\n",
    "ax[1].errorbar(times, np.real(bridge_observables_1), yerr=bridge_observables_1_eom, ls='--', marker='o', label='Bridge with method 1')\n",
    "ax[1].plot(times, bridge_observables_2, ls='--', label='Bridge with method 2')\n",
    "\n",
    "ax[1].set_xlabel('Time')\n",
    "ax[1].set_ylabel('Magnetization error')\n",
    "ax[1].grid()\n",
    "ax[1].legend()"
   ]
  }
 ],
 "metadata": {
  "kernelspec": {
   "display_name": "paper_repo",
   "language": "python",
   "name": "paper_repo"
  },
  "language_info": {
   "codemirror_mode": {
    "name": "ipython",
    "version": 3
   },
   "file_extension": ".py",
   "mimetype": "text/x-python",
   "name": "python",
   "nbconvert_exporter": "python",
   "pygments_lexer": "ipython3",
   "version": "3.12.8"
  }
 },
 "nbformat": 4,
 "nbformat_minor": 5
}
