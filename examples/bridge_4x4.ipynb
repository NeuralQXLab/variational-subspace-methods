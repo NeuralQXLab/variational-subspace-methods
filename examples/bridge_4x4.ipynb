{
 "cells": [
  {
   "cell_type": "markdown",
   "id": "ccafc476-ddf5-44a7-89b9-ea3f224a2826",
   "metadata": {},
   "source": [
    "## Bridge tutorial with real p-tVMC states\n",
    "\n",
    "You must be on branch `with_data` to be able to load the basis states.\n",
    "\n",
    "We perform the dynamics of the Heisenberg Hamiltonian $(J, h) = (0.1, 1)$ on a $4 \\times 4$ lattice. The example states have been optimized with p-tVMC to approximate the dynamics of the state $| + \\ldots + \\rangle$ at discrete time step $\\delta=0.05$. We are now going to perform bridge on these states and see the improvement to the precision of the dynamics that it provides in less that five minutes."
   ]
  },
  {
   "cell_type": "code",
   "execution_count": 1,
   "id": "2ded693e-4f9d-4769-ad14-451c80355b05",
   "metadata": {},
   "outputs": [],
   "source": [
    "import glob\n",
    "\n",
    "import numpy as np\n",
    "import matplotlib.pyplot as plt\n",
    "import jax\n",
    "import qutip as qt\n",
    "\n",
    "from tqdm.auto import tqdm\n",
    "\n",
    "import netket as nk\n",
    "import nqxpack\n",
    "\n",
    "import bridge"
   ]
  },
  {
   "cell_type": "code",
   "execution_count": 2,
   "id": "42f2ba27-3703-451d-abaf-55c3c69f05f0",
   "metadata": {},
   "outputs": [],
   "source": [
    "# Sampling parameters\n",
    "n_samples = 3000\n",
    "sweep_size = 40\n",
    "n_chains = 20\n",
    "n_discard_per_chain = 200\n",
    "\n",
    "# Times\n",
    "times = np.linspace(0, 4.75, 96)\n",
    "\n",
    "# Hamiltonian parameters\n",
    "J = 0.1\n",
    "h = 1.\n",
    "\n",
    "# Graph parameters\n",
    "grid_width = 4\n",
    "grid_height = 4\n",
    "n_qubits = grid_width * grid_height\n",
    "dims_vec = [n_qubits*[2], n_qubits*[1]]\n",
    "\n",
    "# Random seed\n",
    "rng_jax = jax.random.PRNGKey(0)\n",
    "\n",
    "# Hilbert space\n",
    "graph = nk.graph.Grid([grid_width, grid_height], pbc=True)\n",
    "hilbert_space = nk.hilbert.Spin(0.5, n_qubits, inverted_ordering=True)\n",
    "\n",
    "# Operators\n",
    "hamiltonian = sum([-J * nk.operator.spin.sigmaz(hilbert_space, i) * nk.operator.spin.sigmaz(hilbert_space, j) for i,j in graph.edges()])\n",
    "hamiltonian += sum([-h * nk.operator.spin.sigmax(hilbert_space, i) for i in graph.nodes()])\n",
    "hamiltonian = hamiltonian.to_jax_operator()\n",
    "total_x = sum([nk.operator.spin.sigmax(hilbert_space, k, dtype=complex).to_pauli_strings().to_jax_operator() for k in range(n_qubits)]) * (1 / n_qubits)"
   ]
  },
  {
   "cell_type": "code",
   "execution_count": 3,
   "id": "f3e53f3a-e6dc-473f-8f4f-065a4d55f37e",
   "metadata": {},
   "outputs": [
    {
     "ename": "ImportError",
     "evalue": "Cannot import deepnets.net.CNN necesary to resolve deepnets.net.CNN.net.LucaCNN. You need to install it to load this object.",
     "output_type": "error",
     "traceback": [
      "\u001b[0;31m---------------------------------------------------------------------------\u001b[0m",
      "\u001b[0;31mModuleNotFoundError\u001b[0m                       Traceback (most recent call last)",
      "File \u001b[0;32m~/Desktop/bridge/.venv/lib/python3.10/site-packages/nqxpack/_src/lib_v1/resolution.py:99\u001b[0m, in \u001b[0;36m_resolve_qualname_noparametric\u001b[0;34m(name)\u001b[0m\n\u001b[1;32m     98\u001b[0m \u001b[38;5;28;01mtry\u001b[39;00m:\n\u001b[0;32m---> 99\u001b[0m     module \u001b[38;5;241m=\u001b[39m \u001b[38;5;28;43m__import__\u001b[39;49m\u001b[43m(\u001b[49m\u001b[43mmodule_name\u001b[49m\u001b[43m,\u001b[49m\u001b[43m \u001b[49m\u001b[43mfromlist\u001b[49m\u001b[38;5;241;43m=\u001b[39;49m\u001b[43m[\u001b[49m\u001b[38;5;28;43mcls\u001b[39;49m\u001b[43m]\u001b[49m\u001b[43m)\u001b[49m\n\u001b[1;32m    100\u001b[0m \u001b[38;5;28;01mexcept\u001b[39;00m \u001b[38;5;167;01mImportError\u001b[39;00m:\n",
      "\u001b[0;31mModuleNotFoundError\u001b[0m: No module named 'deepnets'",
      "\nDuring handling of the above exception, another exception occurred:\n",
      "\u001b[0;31mImportError\u001b[0m                               Traceback (most recent call last)",
      "Cell \u001b[0;32mIn[3], line 4\u001b[0m\n\u001b[1;32m      2\u001b[0m state_list \u001b[38;5;241m=\u001b[39m []\n\u001b[1;32m      3\u001b[0m \u001b[38;5;28;01mfor\u001b[39;00m file_name \u001b[38;5;129;01min\u001b[39;00m \u001b[38;5;28msorted\u001b[39m(glob\u001b[38;5;241m.\u001b[39mglob(\u001b[38;5;124m\"\u001b[39m\u001b[38;5;124mexample_states/state*\u001b[39m\u001b[38;5;124m\"\u001b[39m)):\n\u001b[0;32m----> 4\u001b[0m     state_list\u001b[38;5;241m.\u001b[39mappend(\u001b[43mnqxpack\u001b[49m\u001b[38;5;241;43m.\u001b[39;49m\u001b[43mload\u001b[49m\u001b[43m(\u001b[49m\u001b[43mfile_name\u001b[49m\u001b[43m)\u001b[49m)\n\u001b[1;32m      6\u001b[0m m_states \u001b[38;5;241m=\u001b[39m \u001b[38;5;28mlen\u001b[39m(state_list)\n\u001b[1;32m      8\u001b[0m \u001b[38;5;28;01mif\u001b[39;00m m_states \u001b[38;5;241m==\u001b[39m \u001b[38;5;241m0\u001b[39m:\n",
      "File \u001b[0;32m~/Desktop/bridge/.venv/lib/python3.10/site-packages/nqxpack/_src/api.py:164\u001b[0m, in \u001b[0;36mload\u001b[0;34m(path)\u001b[0m\n\u001b[1;32m    161\u001b[0m             \u001b[38;5;28;01mif\u001b[39;00m state_obj_dict[\u001b[38;5;124m\"\u001b[39m\u001b[38;5;124m_target_\u001b[39m\u001b[38;5;124m\"\u001b[39m] \u001b[38;5;241m==\u001b[39m \u001b[38;5;124m\"\u001b[39m\u001b[38;5;124mnetket.vqs.mc.mc_state.state.MCState\u001b[39m\u001b[38;5;124m\"\u001b[39m:\n\u001b[1;32m    162\u001b[0m                 state_obj_dict[\u001b[38;5;124m\"\u001b[39m\u001b[38;5;124m_target_\u001b[39m\u001b[38;5;124m\"\u001b[39m] \u001b[38;5;241m=\u001b[39m \u001b[38;5;124m\"\u001b[39m\u001b[38;5;124m#netket.vqs.mc.mc_state.state.MCState\u001b[39m\u001b[38;5;124m\"\u001b[39m\n\u001b[0;32m--> 164\u001b[0m         state \u001b[38;5;241m=\u001b[39m \u001b[43mdeserialize_object\u001b[49m\u001b[43m(\u001b[49m\u001b[43mstate_obj_dict\u001b[49m\u001b[43m)\u001b[49m\n\u001b[1;32m    166\u001b[0m \u001b[38;5;28;01mreturn\u001b[39;00m state\n",
      "    \u001b[0;31m[... skipping hidden 1 frame]\u001b[0m\n",
      "File \u001b[0;32m~/Desktop/bridge/.venv/lib/python3.10/site-packages/nqxpack/_src/lib_v1/lib.py:127\u001b[0m, in \u001b[0;36mdeserialize_object\u001b[0;34m(obj)\u001b[0m\n\u001b[1;32m    125\u001b[0m     \u001b[38;5;28;01mreturn\u001b[39;00m \u001b[38;5;28mtuple\u001b[39m(deserialize_object(x, path\u001b[38;5;241m=\u001b[39mi) \u001b[38;5;28;01mfor\u001b[39;00m i, x \u001b[38;5;129;01min\u001b[39;00m \u001b[38;5;28menumerate\u001b[39m(obj))\n\u001b[1;32m    126\u001b[0m \u001b[38;5;28;01melif\u001b[39;00m \u001b[38;5;28misinstance\u001b[39m(obj, \u001b[38;5;28mdict\u001b[39m):\n\u001b[0;32m--> 127\u001b[0m     obj \u001b[38;5;241m=\u001b[39m {k: deserialize_object(v, path\u001b[38;5;241m=\u001b[39mk) \u001b[38;5;28;01mfor\u001b[39;00m k, v \u001b[38;5;129;01min\u001b[39;00m obj\u001b[38;5;241m.\u001b[39mitems()}\n\u001b[1;32m    128\u001b[0m     \u001b[38;5;28;01mif\u001b[39;00m \u001b[38;5;124m\"\u001b[39m\u001b[38;5;124m_target_\u001b[39m\u001b[38;5;124m\"\u001b[39m \u001b[38;5;129;01min\u001b[39;00m obj:\n\u001b[1;32m    129\u001b[0m         obj \u001b[38;5;241m=\u001b[39m deserialize_custom_object(obj)\n",
      "File \u001b[0;32m~/Desktop/bridge/.venv/lib/python3.10/site-packages/nqxpack/_src/lib_v1/lib.py:127\u001b[0m, in \u001b[0;36m<dictcomp>\u001b[0;34m(.0)\u001b[0m\n\u001b[1;32m    125\u001b[0m     \u001b[38;5;28;01mreturn\u001b[39;00m \u001b[38;5;28mtuple\u001b[39m(deserialize_object(x, path\u001b[38;5;241m=\u001b[39mi) \u001b[38;5;28;01mfor\u001b[39;00m i, x \u001b[38;5;129;01min\u001b[39;00m \u001b[38;5;28menumerate\u001b[39m(obj))\n\u001b[1;32m    126\u001b[0m \u001b[38;5;28;01melif\u001b[39;00m \u001b[38;5;28misinstance\u001b[39m(obj, \u001b[38;5;28mdict\u001b[39m):\n\u001b[0;32m--> 127\u001b[0m     obj \u001b[38;5;241m=\u001b[39m {k: \u001b[43mdeserialize_object\u001b[49m\u001b[43m(\u001b[49m\u001b[43mv\u001b[49m\u001b[43m,\u001b[49m\u001b[43m \u001b[49m\u001b[43mpath\u001b[49m\u001b[38;5;241;43m=\u001b[39;49m\u001b[43mk\u001b[49m\u001b[43m)\u001b[49m \u001b[38;5;28;01mfor\u001b[39;00m k, v \u001b[38;5;129;01min\u001b[39;00m obj\u001b[38;5;241m.\u001b[39mitems()}\n\u001b[1;32m    128\u001b[0m     \u001b[38;5;28;01mif\u001b[39;00m \u001b[38;5;124m\"\u001b[39m\u001b[38;5;124m_target_\u001b[39m\u001b[38;5;124m\"\u001b[39m \u001b[38;5;129;01min\u001b[39;00m obj:\n\u001b[1;32m    129\u001b[0m         obj \u001b[38;5;241m=\u001b[39m deserialize_custom_object(obj)\n",
      "    \u001b[0;31m[... skipping hidden 1 frame]\u001b[0m\n",
      "File \u001b[0;32m~/Desktop/bridge/.venv/lib/python3.10/site-packages/nqxpack/_src/lib_v1/lib.py:127\u001b[0m, in \u001b[0;36mdeserialize_object\u001b[0;34m(obj)\u001b[0m\n\u001b[1;32m    125\u001b[0m     \u001b[38;5;28;01mreturn\u001b[39;00m \u001b[38;5;28mtuple\u001b[39m(deserialize_object(x, path\u001b[38;5;241m=\u001b[39mi) \u001b[38;5;28;01mfor\u001b[39;00m i, x \u001b[38;5;129;01min\u001b[39;00m \u001b[38;5;28menumerate\u001b[39m(obj))\n\u001b[1;32m    126\u001b[0m \u001b[38;5;28;01melif\u001b[39;00m \u001b[38;5;28misinstance\u001b[39m(obj, \u001b[38;5;28mdict\u001b[39m):\n\u001b[0;32m--> 127\u001b[0m     obj \u001b[38;5;241m=\u001b[39m {k: deserialize_object(v, path\u001b[38;5;241m=\u001b[39mk) \u001b[38;5;28;01mfor\u001b[39;00m k, v \u001b[38;5;129;01min\u001b[39;00m obj\u001b[38;5;241m.\u001b[39mitems()}\n\u001b[1;32m    128\u001b[0m     \u001b[38;5;28;01mif\u001b[39;00m \u001b[38;5;124m\"\u001b[39m\u001b[38;5;124m_target_\u001b[39m\u001b[38;5;124m\"\u001b[39m \u001b[38;5;129;01min\u001b[39;00m obj:\n\u001b[1;32m    129\u001b[0m         obj \u001b[38;5;241m=\u001b[39m deserialize_custom_object(obj)\n",
      "File \u001b[0;32m~/Desktop/bridge/.venv/lib/python3.10/site-packages/nqxpack/_src/lib_v1/lib.py:127\u001b[0m, in \u001b[0;36m<dictcomp>\u001b[0;34m(.0)\u001b[0m\n\u001b[1;32m    125\u001b[0m     \u001b[38;5;28;01mreturn\u001b[39;00m \u001b[38;5;28mtuple\u001b[39m(deserialize_object(x, path\u001b[38;5;241m=\u001b[39mi) \u001b[38;5;28;01mfor\u001b[39;00m i, x \u001b[38;5;129;01min\u001b[39;00m \u001b[38;5;28menumerate\u001b[39m(obj))\n\u001b[1;32m    126\u001b[0m \u001b[38;5;28;01melif\u001b[39;00m \u001b[38;5;28misinstance\u001b[39m(obj, \u001b[38;5;28mdict\u001b[39m):\n\u001b[0;32m--> 127\u001b[0m     obj \u001b[38;5;241m=\u001b[39m {k: \u001b[43mdeserialize_object\u001b[49m\u001b[43m(\u001b[49m\u001b[43mv\u001b[49m\u001b[43m,\u001b[49m\u001b[43m \u001b[49m\u001b[43mpath\u001b[49m\u001b[38;5;241;43m=\u001b[39;49m\u001b[43mk\u001b[49m\u001b[43m)\u001b[49m \u001b[38;5;28;01mfor\u001b[39;00m k, v \u001b[38;5;129;01min\u001b[39;00m obj\u001b[38;5;241m.\u001b[39mitems()}\n\u001b[1;32m    128\u001b[0m     \u001b[38;5;28;01mif\u001b[39;00m \u001b[38;5;124m\"\u001b[39m\u001b[38;5;124m_target_\u001b[39m\u001b[38;5;124m\"\u001b[39m \u001b[38;5;129;01min\u001b[39;00m obj:\n\u001b[1;32m    129\u001b[0m         obj \u001b[38;5;241m=\u001b[39m deserialize_custom_object(obj)\n",
      "    \u001b[0;31m[... skipping hidden 1 frame]\u001b[0m\n",
      "File \u001b[0;32m~/Desktop/bridge/.venv/lib/python3.10/site-packages/nqxpack/_src/lib_v1/lib.py:127\u001b[0m, in \u001b[0;36mdeserialize_object\u001b[0;34m(obj)\u001b[0m\n\u001b[1;32m    125\u001b[0m     \u001b[38;5;28;01mreturn\u001b[39;00m \u001b[38;5;28mtuple\u001b[39m(deserialize_object(x, path\u001b[38;5;241m=\u001b[39mi) \u001b[38;5;28;01mfor\u001b[39;00m i, x \u001b[38;5;129;01min\u001b[39;00m \u001b[38;5;28menumerate\u001b[39m(obj))\n\u001b[1;32m    126\u001b[0m \u001b[38;5;28;01melif\u001b[39;00m \u001b[38;5;28misinstance\u001b[39m(obj, \u001b[38;5;28mdict\u001b[39m):\n\u001b[0;32m--> 127\u001b[0m     obj \u001b[38;5;241m=\u001b[39m {k: deserialize_object(v, path\u001b[38;5;241m=\u001b[39mk) \u001b[38;5;28;01mfor\u001b[39;00m k, v \u001b[38;5;129;01min\u001b[39;00m obj\u001b[38;5;241m.\u001b[39mitems()}\n\u001b[1;32m    128\u001b[0m     \u001b[38;5;28;01mif\u001b[39;00m \u001b[38;5;124m\"\u001b[39m\u001b[38;5;124m_target_\u001b[39m\u001b[38;5;124m\"\u001b[39m \u001b[38;5;129;01min\u001b[39;00m obj:\n\u001b[1;32m    129\u001b[0m         obj \u001b[38;5;241m=\u001b[39m deserialize_custom_object(obj)\n",
      "File \u001b[0;32m~/Desktop/bridge/.venv/lib/python3.10/site-packages/nqxpack/_src/lib_v1/lib.py:127\u001b[0m, in \u001b[0;36m<dictcomp>\u001b[0;34m(.0)\u001b[0m\n\u001b[1;32m    125\u001b[0m     \u001b[38;5;28;01mreturn\u001b[39;00m \u001b[38;5;28mtuple\u001b[39m(deserialize_object(x, path\u001b[38;5;241m=\u001b[39mi) \u001b[38;5;28;01mfor\u001b[39;00m i, x \u001b[38;5;129;01min\u001b[39;00m \u001b[38;5;28menumerate\u001b[39m(obj))\n\u001b[1;32m    126\u001b[0m \u001b[38;5;28;01melif\u001b[39;00m \u001b[38;5;28misinstance\u001b[39m(obj, \u001b[38;5;28mdict\u001b[39m):\n\u001b[0;32m--> 127\u001b[0m     obj \u001b[38;5;241m=\u001b[39m {k: \u001b[43mdeserialize_object\u001b[49m\u001b[43m(\u001b[49m\u001b[43mv\u001b[49m\u001b[43m,\u001b[49m\u001b[43m \u001b[49m\u001b[43mpath\u001b[49m\u001b[38;5;241;43m=\u001b[39;49m\u001b[43mk\u001b[49m\u001b[43m)\u001b[49m \u001b[38;5;28;01mfor\u001b[39;00m k, v \u001b[38;5;129;01min\u001b[39;00m obj\u001b[38;5;241m.\u001b[39mitems()}\n\u001b[1;32m    128\u001b[0m     \u001b[38;5;28;01mif\u001b[39;00m \u001b[38;5;124m\"\u001b[39m\u001b[38;5;124m_target_\u001b[39m\u001b[38;5;124m\"\u001b[39m \u001b[38;5;129;01min\u001b[39;00m obj:\n\u001b[1;32m    129\u001b[0m         obj \u001b[38;5;241m=\u001b[39m deserialize_custom_object(obj)\n",
      "    \u001b[0;31m[... skipping hidden 1 frame]\u001b[0m\n",
      "File \u001b[0;32m~/Desktop/bridge/.venv/lib/python3.10/site-packages/nqxpack/_src/lib_v1/lib.py:129\u001b[0m, in \u001b[0;36mdeserialize_object\u001b[0;34m(obj)\u001b[0m\n\u001b[1;32m    127\u001b[0m     obj \u001b[38;5;241m=\u001b[39m {k: deserialize_object(v, path\u001b[38;5;241m=\u001b[39mk) \u001b[38;5;28;01mfor\u001b[39;00m k, v \u001b[38;5;129;01min\u001b[39;00m obj\u001b[38;5;241m.\u001b[39mitems()}\n\u001b[1;32m    128\u001b[0m     \u001b[38;5;28;01mif\u001b[39;00m \u001b[38;5;124m\"\u001b[39m\u001b[38;5;124m_target_\u001b[39m\u001b[38;5;124m\"\u001b[39m \u001b[38;5;129;01min\u001b[39;00m obj:\n\u001b[0;32m--> 129\u001b[0m         obj \u001b[38;5;241m=\u001b[39m \u001b[43mdeserialize_custom_object\u001b[49m\u001b[43m(\u001b[49m\u001b[43mobj\u001b[49m\u001b[43m)\u001b[49m\n\u001b[1;32m    130\u001b[0m     \u001b[38;5;28;01mreturn\u001b[39;00m obj\n\u001b[1;32m    131\u001b[0m \u001b[38;5;28;01melse\u001b[39;00m:\n",
      "File \u001b[0;32m~/Desktop/bridge/.venv/lib/python3.10/site-packages/nqxpack/_src/lib_v1/lib.py:203\u001b[0m, in \u001b[0;36mdeserialize_custom_object\u001b[0;34m(obj)\u001b[0m\n\u001b[1;32m    201\u001b[0m \u001b[38;5;28;01mif\u001b[39;00m is_custom:\n\u001b[1;32m    202\u001b[0m     target_str \u001b[38;5;241m=\u001b[39m target_str[\u001b[38;5;241m1\u001b[39m:]\n\u001b[0;32m--> 203\u001b[0m target \u001b[38;5;241m=\u001b[39m \u001b[43m_resolve_qualname\u001b[49m\u001b[43m(\u001b[49m\u001b[43mtarget_str\u001b[49m\u001b[43m)\u001b[49m\n\u001b[1;32m    205\u001b[0m \u001b[38;5;28;01mtry\u001b[39;00m:\n\u001b[1;32m    206\u001b[0m     \u001b[38;5;28;01mif\u001b[39;00m is_custom:\n",
      "File \u001b[0;32m~/Desktop/bridge/.venv/lib/python3.10/site-packages/nqxpack/_src/lib_v1/resolution.py:66\u001b[0m, in \u001b[0;36m_resolve_qualname\u001b[0;34m(name)\u001b[0m\n\u001b[1;32m     63\u001b[0m parametric_part \u001b[38;5;241m=\u001b[39m match\u001b[38;5;241m.\u001b[39mgroup(\u001b[38;5;241m2\u001b[39m)  \u001b[38;5;66;03m# The content inside the brackets, if it exists\u001b[39;00m\n\u001b[1;32m     65\u001b[0m \u001b[38;5;28;01mif\u001b[39;00m parametric_part \u001b[38;5;129;01mis\u001b[39;00m \u001b[38;5;28;01mNone\u001b[39;00m:\n\u001b[0;32m---> 66\u001b[0m     \u001b[38;5;28;01mreturn\u001b[39;00m \u001b[43m_resolve_qualname_noparametric\u001b[49m\u001b[43m(\u001b[49m\u001b[43mqualified_name\u001b[49m\u001b[43m)\u001b[49m\n\u001b[1;32m     67\u001b[0m \u001b[38;5;28;01melse\u001b[39;00m:\n\u001b[1;32m     68\u001b[0m     qualified_name \u001b[38;5;241m=\u001b[39m _resolve_qualname_noparametric(qualified_name)\n",
      "File \u001b[0;32m~/Desktop/bridge/.venv/lib/python3.10/site-packages/nqxpack/_src/lib_v1/resolution.py:101\u001b[0m, in \u001b[0;36m_resolve_qualname_noparametric\u001b[0;34m(name)\u001b[0m\n\u001b[1;32m     99\u001b[0m     module \u001b[38;5;241m=\u001b[39m \u001b[38;5;28m__import__\u001b[39m(module_name, fromlist\u001b[38;5;241m=\u001b[39m[\u001b[38;5;28mcls\u001b[39m])\n\u001b[1;32m    100\u001b[0m \u001b[38;5;28;01mexcept\u001b[39;00m \u001b[38;5;167;01mImportError\u001b[39;00m:\n\u001b[0;32m--> 101\u001b[0m     \u001b[38;5;28;01mraise\u001b[39;00m \u001b[38;5;167;01mImportError\u001b[39;00m(\n\u001b[1;32m    102\u001b[0m         \u001b[38;5;124mf\u001b[39m\u001b[38;5;124m\"\u001b[39m\u001b[38;5;124mCannot import \u001b[39m\u001b[38;5;132;01m{\u001b[39;00mmodule_name\u001b[38;5;132;01m}\u001b[39;00m\u001b[38;5;124m necesary to resolve \u001b[39m\u001b[38;5;132;01m{\u001b[39;00mname\u001b[38;5;132;01m}\u001b[39;00m\u001b[38;5;124m. You need to install it to load this object.\u001b[39m\u001b[38;5;124m\"\u001b[39m\n\u001b[1;32m    103\u001b[0m     )\n\u001b[1;32m    105\u001b[0m \u001b[38;5;28;01mtry\u001b[39;00m:\n\u001b[1;32m    106\u001b[0m     module \u001b[38;5;241m=\u001b[39m \u001b[38;5;28mgetattr\u001b[39m(module, _cls)\n",
      "\u001b[0;31mImportError\u001b[0m: Cannot import deepnets.net.CNN necesary to resolve deepnets.net.CNN.net.LucaCNN. You need to install it to load this object."
     ]
    }
   ],
   "source": [
    "# Load states\n",
    "state_list = []\n",
    "for file_name in sorted(glob.glob(\"example_states/state*\")):\n",
    "    state_list.append(nqxpack.load(file_name))\n",
    "\n",
    "m_states = len(state_list)\n",
    "\n",
    "if m_states == 0:\n",
    "    raise Exception(\"Failed to load any state\")\n",
    "print(f\"Loaded {m_states} states\")"
   ]
  },
  {
   "cell_type": "code",
   "execution_count": null,
   "id": "a9cf4014-19b6-47fb-9f53-073af87e8ea0",
   "metadata": {},
   "outputs": [],
   "source": [
    "# Exact dynamics\n",
    "psi_0 = qt.Qobj(np.ones(2**n_qubits), dims=dims_vec)\n",
    "psi_0 /= psi_0.norm()\n",
    "hamiltonian_qt = hamiltonian.to_qobj()\n",
    "total_x_qt = total_x.to_qobj()\n",
    "options = {'atol': 1e-8, 'rtol': 1e-8, 'store_states': True, 'progress_bar': 'tqdm'}\n",
    "\n",
    "exact_dynamics_res = qt.sesolve(hamiltonian_qt, psi_0, times, e_ops=[total_x_qt], options=options)\n",
    "exact_dynamics_states = exact_dynamics_res.states\n",
    "exact_dynamics_states_np = np.array([state.full()[:,0] for state in exact_dynamics_states])\n",
    "exact_dynamics_observables = exact_dynamics_res.expect[0]"
   ]
  },
  {
   "cell_type": "code",
   "execution_count": null,
   "id": "a212490a-d0d5-4c5e-830a-8ba1db56d0f8",
   "metadata": {},
   "outputs": [],
   "source": [
    "# Bridge\n",
    "sampling_rule = nk.sampler.rules.LocalRule()\n",
    "with nk.utils.timing.timed_scope(force=True) as timer:\n",
    "    bridge_states, rayleigh_matrix_estimate, info_dict = bridge.bridge(state_list, hamiltonian, times, n_samples, sweep_size, n_chains, n_discard_per_chain, sampling_rule=sampling_rule, chunk_size=1, decimal_precision_solver=None)\n",
    "\n",
    "for key in info_dict:\n",
    "    print(key, info_dict[key])"
   ]
  },
  {
   "cell_type": "code",
   "execution_count": null,
   "id": "4000f2f9-6677-474d-a34b-b2f7f1947108",
   "metadata": {},
   "outputs": [],
   "source": [
    "# Infidelity of the basis states\n",
    "base_states_np = np.array([state.to_array(normalize=False) for state in state_list])\n",
    "base_states_infidelities = np.real(1 - bridge.numpy_tools.fidelity(base_states_np, exact_dynamics_states_np))\n",
    "\n",
    "# Observable of the basis states\n",
    "base_states_observables_exact = np.einsum('kn,nk->k', base_states_np.conj(), (total_x.to_sparse() @ base_states_np.T)) / np.linalg.norm(base_states_np, axis=1)**2\n",
    "\n",
    "# Infidelity of the bridge states\n",
    "bridge_states_full = np.inner(bridge_states, base_states_np.T)\n",
    "bridge_states_infidelity = np.real(1 - bridge.numpy_tools.fidelity(exact_dynamics_states_np, bridge_states_full))\n",
    "\n",
    "# Observable of the bridge states\n",
    "bridge_states_observables_exact = np.einsum('kn,nk->k', bridge_states_full.conj(), (total_x.to_sparse() @ bridge_states_full.T)) / np.linalg.norm(bridge_states_full, axis=1)**2\n",
    "\n",
    "# Optimal infidelity that can be obtained within the subspace spanned by the basis states\n",
    "optimal_infidelity = bridge.distance_to_subspace(exact_dynamics_states_np, base_states_np, decimal_precision=100)"
   ]
  },
  {
   "cell_type": "markdown",
   "id": "7deafaea-209f-462e-ae29-ab7ea93e6181",
   "metadata": {},
   "source": [
    "There are two ways of estimating observables:\n",
    "\n",
    "- Either we construct the linear combination state $\\sum_k \\alpha_k | \\phi_k \\rangle$ using `bridge.construct_linear_state`. Then we only have to call the method `expect` as usual.\n",
    "- Or we can rely on the following formula for linear combination of states:\n",
    "$$ \\langle A \\rangle = \\frac{\\alpha^\\dagger G^{(A)} \\alpha}{\\alpha^\\dagger G \\alpha} $$\n",
    "and compute $G$ and $G^{(A)}$ using `bridge.estimate_projected_operators_sum_of_states`."
   ]
  },
  {
   "cell_type": "code",
   "execution_count": null,
   "id": "85fffa90-8477-4f0c-9cf5-2721d7ff13e8",
   "metadata": {},
   "outputs": [],
   "source": [
    "# First method\n",
    "bridge_observables_1 = []\n",
    "bridge_observables_1_eom = []\n",
    "\n",
    "sampler = nk.sampler.MetropolisLocal(hilbert_space)\n",
    "\n",
    "for coefficients in tqdm(bridge_states):\n",
    "    linear_combination_state = bridge.construct_linear_state(state_list, coefficients, cls=nk.vqs.MCState, sampler=sampler)\n",
    "    observable_stats = linear_combination_state.expect(total_x)\n",
    "    bridge_observables_1.append(observable_stats.mean.item())\n",
    "    bridge_observables_1_eom.append(observable_stats.error_of_mean.item())"
   ]
  },
  {
   "cell_type": "code",
   "execution_count": null,
   "id": "07f59935-ed8e-484c-9718-7f71c75d896d",
   "metadata": {},
   "outputs": [],
   "source": [
    "# Second method\n",
    "%time gram_matrix, projected_total_x = bridge.estimate_projected_operators_sum_of_states(state_list, [total_x], sampling_rule=sampler.rule, n_samples=2**17, n_chains=2**13, n_discard_per_chain=5, chunk_size=1)\n",
    "\n",
    "numerator = np.einsum('ki,ij,kj->k', bridge_states.conj(), projected_total_x, bridge_states)\n",
    "denominator = np.einsum('ki,ij,kj->k', bridge_states.conj(), gram_matrix, bridge_states)\n",
    "bridge_observables_2 = numerator / denominator"
   ]
  },
  {
   "cell_type": "code",
   "execution_count": null,
   "id": "9d8e347e-3419-4ce3-b674-2f0a5c8d36ee",
   "metadata": {},
   "outputs": [],
   "source": [
    "# Plot\n",
    "fig, ax = plt.subplots(2, 1, figsize=(16,16))\n",
    "\n",
    "ax[0].plot(times, base_states_infidelities, ls='--', marker='o', c='m', label='Basis states')\n",
    "ax[0].plot(times, bridge_states_infidelity, ls='-', marker='o', label='Bridge')\n",
    "ax[0].plot(times, optimal_infidelity, ls=':', marker='o', label='Optimal subspace states')\n",
    "\n",
    "ax[0].set_yscale('log')\n",
    "ax[0].set_xlabel('Time')\n",
    "ax[0].set_ylabel('Infidelity error')\n",
    "ax[0].grid()\n",
    "ax[0].legend()\n",
    "\n",
    "\n",
    "ax[1].plot(times, exact_dynamics_observables, ls='-', c='k', label='Exact')\n",
    "ax[1].plot(times, base_states_observables_exact, ls='--', label='Basis states (without sampling)')\n",
    "ax[1].plot(times, bridge_states_observables_exact, ls='--', label='Bridge (without sampling)')\n",
    "ax[1].errorbar(times, np.real(bridge_observables_1), yerr=bridge_observables_1_eom, ls='--', marker='o', label='Bridge with method 1')\n",
    "ax[1].plot(times, bridge_observables_2, ls='--', label='Bridge with method 2')\n",
    "\n",
    "ax[1].set_xlabel('Time')\n",
    "ax[1].set_ylabel('Magnetization error')\n",
    "ax[1].grid()\n",
    "ax[1].legend()"
   ]
  }
 ],
 "metadata": {
  "kernelspec": {
   "display_name": "paper_repo_kernel",
   "language": "python",
   "name": "paper_repo_kernel"
  },
  "language_info": {
   "codemirror_mode": {
    "name": "ipython",
    "version": 3
   },
   "file_extension": ".py",
   "mimetype": "text/x-python",
   "name": "python",
   "nbconvert_exporter": "python",
   "pygments_lexer": "ipython3",
   "version": "3.10.12"
  }
 },
 "nbformat": 4,
 "nbformat_minor": 5
}
